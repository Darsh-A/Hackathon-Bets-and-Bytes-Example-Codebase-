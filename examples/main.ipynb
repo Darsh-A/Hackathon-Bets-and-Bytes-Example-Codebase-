{
 "cells": [
  {
   "cell_type": "code",
   "execution_count": 16,
   "metadata": {},
   "outputs": [],
   "source": [
    "from itertools import combinations\n",
    "from collections import Counter\n",
    "from evaluateHand import evaluate_hand"
   ]
  },
  {
   "cell_type": "code",
   "execution_count": 15,
   "metadata": {},
   "outputs": [],
   "source": [
    "# Define card rank and suit mappings\n",
    "RANKS = {'2': 2, '3': 3, '4': 4, '5': 5, '6': 6, '7': 7, '8': 8, '9': 9, '10': 10, 'J': 11, 'Q': 12, 'K': 13, 'A': 14}\n",
    "SUITS = ['Clubs', 'Diamonds', 'Hearts', 'Spades']\n",
    "DECK = [(rank, suit) for rank in RANKS for suit in SUITS]"
   ]
  },
  {
   "cell_type": "code",
   "execution_count": 32,
   "metadata": {},
   "outputs": [
    {
     "name": "stdout",
     "output_type": "stream",
     "text": [
      "Probabilities with next card:\n",
      "Royal Flush: 0.0035\n",
      "Straight Flush: 0.0000\n",
      "Four of a Kind: 0.0000\n",
      "Full House: 0.0000\n",
      "Flush: 0.0284\n",
      "Straight: 0.2305\n",
      "Three of a Kind: 0.0000\n",
      "Two Pair: 0.0000\n",
      "One Pair: 0.2128\n",
      "High Card: 0.5248\n"
     ]
    }
   ],
   "source": [
    "\"\"\"\n",
    "Evalutes prob of each hand of the next possible hand given the current community hand and the player's hand\n",
    "\"\"\"\n",
    "\n",
    "\n",
    "def hand_type_probability(current_community_cards, hand_cards):\n",
    "    all_known_cards = set(current_community_cards + hand_cards)\n",
    "    remaining_deck = [card for card in DECK if card not in all_known_cards]\n",
    "    \n",
    "    hand_types = {\n",
    "        9: 'Royal Flush',\n",
    "        8: 'Straight Flush',\n",
    "        7: 'Four of a Kind',\n",
    "        6: 'Full House',\n",
    "        5: 'Flush',\n",
    "        4: 'Straight',\n",
    "        3: 'Three of a Kind',\n",
    "        2: 'Two Pair',\n",
    "        1: 'One Pair',\n",
    "        0: 'High Card'\n",
    "    }\n",
    "    \n",
    "    hand_counts = {hand: 0 for hand in hand_types.values()}\n",
    "\n",
    "    total_possible_hands = 0\n",
    "    num_known_cards = len(current_community_cards) + len(hand_cards)\n",
    "\n",
    "    # Calculate probabilities based on the number of cards\n",
    "    if num_known_cards == 5:\n",
    "        num_needed = 1\n",
    "        possible_next_cards = remaining_deck\n",
    "    elif num_known_cards == 6:\n",
    "        num_needed = 1\n",
    "        possible_next_cards = remaining_deck\n",
    "    elif num_known_cards == 7:\n",
    "        num_needed = 0\n",
    "        possible_next_cards = []  # No more cards to draw\n",
    "    else:\n",
    "        raise ValueError(\"Invalid number of known cards\")\n",
    "\n",
    "    if num_needed > 0:\n",
    "        for next_card in possible_next_cards:\n",
    "            # Simulate the hand with the next card\n",
    "            complete_hand = current_community_cards + hand_cards + [next_card]\n",
    "            # Generate all 5-card combinations from the complete hand\n",
    "            possible_hands = list(combinations(complete_hand, 5))\n",
    "            for hand in possible_hands:\n",
    "                hand_type, _ = evaluate_hand(hand)\n",
    "                hand_name = hand_types[hand_type[1]]\n",
    "                hand_counts[hand_name] += 1\n",
    "            total_possible_hands += len(possible_hands)\n",
    "    else:\n",
    "        # No more cards to draw, just evaluate the current hand\n",
    "        complete_hand = current_community_cards + hand_cards\n",
    "        hand_type, _ = evaluate_hand(complete_hand)\n",
    "        hand_name = hand_types[hand_type[1]]\n",
    "        hand_counts[hand_name] = 1\n",
    "        total_possible_hands = 1\n",
    "\n",
    "    probabilities = {hand: count / total_possible_hands for hand, count in hand_counts.items()}\n",
    "    \n",
    "    return probabilities\n",
    "\n",
    "# Example usage\n",
    "community_cards = [('A', 'Hearts'), ('K', 'Hearts'), ('Q', 'Spades')]  # Example community cards\n",
    "hand_cards = [('J', 'Hearts'), ('10', 'Hearts')]  # Example hand cards\n",
    "\n",
    "# First round: 5 cards, predicting probabilities with 6th card\n",
    "print(\"Probabilities with next card:\")\n",
    "probabilities = hand_type_probability(community_cards, hand_cards)\n",
    "for hand_type, prob in probabilities.items():\n",
    "    print(f\"{hand_type}: {prob:.4f}\")\n"
   ]
  },
  {
   "cell_type": "markdown",
   "metadata": {},
   "source": [
    "Now define a single prob factor combining all the hands combinations probabilty and their rank (1 for Royal Flush) and use this to determine the bots move"
   ]
  },
  {
   "cell_type": "markdown",
   "metadata": {},
   "source": [
    "#### Note: This is only an example thus the prob function is inefficient and Teams are encourage to come up with their own functions"
   ]
  },
  {
   "cell_type": "markdown",
   "metadata": {},
   "source": [
    "Now make use of the produced probability to decide the outcome\n",
    "The three approaches that can be made (with increasing complexity)\n",
    "1. Define a prob-risk limit till when u can fold,check,raise\n",
    "2. Tweak your prob-risk factor when the opponent raises/folds\n",
    "3. Use Algorithms to account for strategy and patterns of the opponent (Example: Counterfactual Regret Minimization - CFT)"
   ]
  },
  {
   "cell_type": "markdown",
   "metadata": {},
   "source": [
    "Next Steps include \n",
    "- Keeping in memory of the community cards and taking input each round (of 3)\n",
    "- Defining a variable for your pool (points) that are spent each round\n",
    "- Defining what the bot should do each round based on your prob-risk factor\n",
    "\n",
    "Your inputs for each round should (only) include\n",
    "- The new community card delt\n",
    "- what the opponents have played (call/raise/fold)\n",
    "\n"
   ]
  },
  {
   "cell_type": "markdown",
   "metadata": {},
   "source": []
  }
 ],
 "metadata": {
  "kernelspec": {
   "display_name": "Python 3",
   "language": "python",
   "name": "python3"
  },
  "language_info": {
   "codemirror_mode": {
    "name": "ipython",
    "version": 3
   },
   "file_extension": ".py",
   "mimetype": "text/x-python",
   "name": "python",
   "nbconvert_exporter": "python",
   "pygments_lexer": "ipython3",
   "version": "3.12.2"
  }
 },
 "nbformat": 4,
 "nbformat_minor": 2
}
